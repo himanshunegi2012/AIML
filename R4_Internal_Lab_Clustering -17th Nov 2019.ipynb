{
 "cells": [
  {
   "cell_type": "markdown",
   "metadata": {},
   "source": [
    "### The data set has information about features of silhouette extracted from the images of different cars\n",
    "\n",
    "Four \"Corgie\" model vehicles were used for the experiment: a double decker bus, Cheverolet van, Saab 9000 and an Opel Manta 400 cars. This particular combination of vehicles was chosen with the expectation that the bus, van and either one of the cars would be readily distinguishable, but it would be more difficult to distinguish between the cars.\n",
    "\n"
   ]
  },
  {
   "cell_type": "markdown",
   "metadata": {},
   "source": [
    "### 1. Read the dataset using function .dropna() - to avoid dealing with NAs as of now"
   ]
  },
  {
   "cell_type": "code",
   "execution_count": 1,
   "metadata": {},
   "outputs": [],
   "source": [
    "import pandas as pd\n",
    "import numpy as np\n",
    "import seaborn as sns\n",
    "import matplotlib.pyplot as plt\n",
    "from scipy.stats import zscore\n",
    "from sklearn.cluster import KMeans\n",
    "from scipy.cluster.hierarchy import dendrogram, linkage\n",
    "from sklearn.cluster import AgglomerativeClustering"
   ]
  },
  {
   "cell_type": "code",
   "execution_count": 2,
   "metadata": {},
   "outputs": [
    {
     "data": {
      "text/html": [
       "<div>\n",
       "<style scoped>\n",
       "    .dataframe tbody tr th:only-of-type {\n",
       "        vertical-align: middle;\n",
       "    }\n",
       "\n",
       "    .dataframe tbody tr th {\n",
       "        vertical-align: top;\n",
       "    }\n",
       "\n",
       "    .dataframe thead th {\n",
       "        text-align: right;\n",
       "    }\n",
       "</style>\n",
       "<table border=\"1\" class=\"dataframe\">\n",
       "  <thead>\n",
       "    <tr style=\"text-align: right;\">\n",
       "      <th></th>\n",
       "      <th>compactness</th>\n",
       "      <th>circularity</th>\n",
       "      <th>distance_circularity</th>\n",
       "      <th>radius_ratio</th>\n",
       "      <th>pr.axis_aspect_ratio</th>\n",
       "      <th>max.length_aspect_ratio</th>\n",
       "      <th>scatter_ratio</th>\n",
       "      <th>elongatedness</th>\n",
       "      <th>pr.axis_rectangularity</th>\n",
       "      <th>max.length_rectangularity</th>\n",
       "      <th>scaled_variance</th>\n",
       "      <th>scaled_variance.1</th>\n",
       "      <th>scaled_radius_of_gyration</th>\n",
       "      <th>scaled_radius_of_gyration.1</th>\n",
       "      <th>skewness_about</th>\n",
       "      <th>skewness_about.1</th>\n",
       "      <th>skewness_about.2</th>\n",
       "      <th>hollows_ratio</th>\n",
       "      <th>class</th>\n",
       "    </tr>\n",
       "  </thead>\n",
       "  <tbody>\n",
       "    <tr>\n",
       "      <th>0</th>\n",
       "      <td>95</td>\n",
       "      <td>48.0</td>\n",
       "      <td>83.0</td>\n",
       "      <td>178.0</td>\n",
       "      <td>72.0</td>\n",
       "      <td>10</td>\n",
       "      <td>162.0</td>\n",
       "      <td>42.0</td>\n",
       "      <td>20.0</td>\n",
       "      <td>159</td>\n",
       "      <td>176.0</td>\n",
       "      <td>379.0</td>\n",
       "      <td>184.0</td>\n",
       "      <td>70.0</td>\n",
       "      <td>6.0</td>\n",
       "      <td>16.0</td>\n",
       "      <td>187.0</td>\n",
       "      <td>197</td>\n",
       "      <td>van</td>\n",
       "    </tr>\n",
       "    <tr>\n",
       "      <th>1</th>\n",
       "      <td>91</td>\n",
       "      <td>41.0</td>\n",
       "      <td>84.0</td>\n",
       "      <td>141.0</td>\n",
       "      <td>57.0</td>\n",
       "      <td>9</td>\n",
       "      <td>149.0</td>\n",
       "      <td>45.0</td>\n",
       "      <td>19.0</td>\n",
       "      <td>143</td>\n",
       "      <td>170.0</td>\n",
       "      <td>330.0</td>\n",
       "      <td>158.0</td>\n",
       "      <td>72.0</td>\n",
       "      <td>9.0</td>\n",
       "      <td>14.0</td>\n",
       "      <td>189.0</td>\n",
       "      <td>199</td>\n",
       "      <td>van</td>\n",
       "    </tr>\n",
       "    <tr>\n",
       "      <th>2</th>\n",
       "      <td>104</td>\n",
       "      <td>50.0</td>\n",
       "      <td>106.0</td>\n",
       "      <td>209.0</td>\n",
       "      <td>66.0</td>\n",
       "      <td>10</td>\n",
       "      <td>207.0</td>\n",
       "      <td>32.0</td>\n",
       "      <td>23.0</td>\n",
       "      <td>158</td>\n",
       "      <td>223.0</td>\n",
       "      <td>635.0</td>\n",
       "      <td>220.0</td>\n",
       "      <td>73.0</td>\n",
       "      <td>14.0</td>\n",
       "      <td>9.0</td>\n",
       "      <td>188.0</td>\n",
       "      <td>196</td>\n",
       "      <td>car</td>\n",
       "    </tr>\n",
       "    <tr>\n",
       "      <th>3</th>\n",
       "      <td>93</td>\n",
       "      <td>41.0</td>\n",
       "      <td>82.0</td>\n",
       "      <td>159.0</td>\n",
       "      <td>63.0</td>\n",
       "      <td>9</td>\n",
       "      <td>144.0</td>\n",
       "      <td>46.0</td>\n",
       "      <td>19.0</td>\n",
       "      <td>143</td>\n",
       "      <td>160.0</td>\n",
       "      <td>309.0</td>\n",
       "      <td>127.0</td>\n",
       "      <td>63.0</td>\n",
       "      <td>6.0</td>\n",
       "      <td>10.0</td>\n",
       "      <td>199.0</td>\n",
       "      <td>207</td>\n",
       "      <td>van</td>\n",
       "    </tr>\n",
       "    <tr>\n",
       "      <th>4</th>\n",
       "      <td>85</td>\n",
       "      <td>44.0</td>\n",
       "      <td>70.0</td>\n",
       "      <td>205.0</td>\n",
       "      <td>103.0</td>\n",
       "      <td>52</td>\n",
       "      <td>149.0</td>\n",
       "      <td>45.0</td>\n",
       "      <td>19.0</td>\n",
       "      <td>144</td>\n",
       "      <td>241.0</td>\n",
       "      <td>325.0</td>\n",
       "      <td>188.0</td>\n",
       "      <td>127.0</td>\n",
       "      <td>9.0</td>\n",
       "      <td>11.0</td>\n",
       "      <td>180.0</td>\n",
       "      <td>183</td>\n",
       "      <td>bus</td>\n",
       "    </tr>\n",
       "  </tbody>\n",
       "</table>\n",
       "</div>"
      ],
      "text/plain": [
       "   compactness  circularity  distance_circularity  radius_ratio  \\\n",
       "0           95         48.0                  83.0         178.0   \n",
       "1           91         41.0                  84.0         141.0   \n",
       "2          104         50.0                 106.0         209.0   \n",
       "3           93         41.0                  82.0         159.0   \n",
       "4           85         44.0                  70.0         205.0   \n",
       "\n",
       "   pr.axis_aspect_ratio  max.length_aspect_ratio  scatter_ratio  \\\n",
       "0                  72.0                       10          162.0   \n",
       "1                  57.0                        9          149.0   \n",
       "2                  66.0                       10          207.0   \n",
       "3                  63.0                        9          144.0   \n",
       "4                 103.0                       52          149.0   \n",
       "\n",
       "   elongatedness  pr.axis_rectangularity  max.length_rectangularity  \\\n",
       "0           42.0                    20.0                        159   \n",
       "1           45.0                    19.0                        143   \n",
       "2           32.0                    23.0                        158   \n",
       "3           46.0                    19.0                        143   \n",
       "4           45.0                    19.0                        144   \n",
       "\n",
       "   scaled_variance  scaled_variance.1  scaled_radius_of_gyration  \\\n",
       "0            176.0              379.0                      184.0   \n",
       "1            170.0              330.0                      158.0   \n",
       "2            223.0              635.0                      220.0   \n",
       "3            160.0              309.0                      127.0   \n",
       "4            241.0              325.0                      188.0   \n",
       "\n",
       "   scaled_radius_of_gyration.1  skewness_about  skewness_about.1  \\\n",
       "0                         70.0             6.0              16.0   \n",
       "1                         72.0             9.0              14.0   \n",
       "2                         73.0            14.0               9.0   \n",
       "3                         63.0             6.0              10.0   \n",
       "4                        127.0             9.0              11.0   \n",
       "\n",
       "   skewness_about.2  hollows_ratio class  \n",
       "0             187.0            197   van  \n",
       "1             189.0            199   van  \n",
       "2             188.0            196   car  \n",
       "3             199.0            207   van  \n",
       "4             180.0            183   bus  "
      ]
     },
     "execution_count": 2,
     "metadata": {},
     "output_type": "execute_result"
    }
   ],
   "source": [
    "df_silhoutte=pd.read_csv(\"vehicle.csv\")\n",
    "df_silhoutte.head()"
   ]
  },
  {
   "cell_type": "code",
   "execution_count": 3,
   "metadata": {},
   "outputs": [
    {
     "data": {
      "text/plain": [
       "(846, 19)"
      ]
     },
     "execution_count": 3,
     "metadata": {},
     "output_type": "execute_result"
    }
   ],
   "source": [
    "df_silhoutte.shape"
   ]
  },
  {
   "cell_type": "code",
   "execution_count": 4,
   "metadata": {},
   "outputs": [
    {
     "data": {
      "text/plain": [
       "compactness                    0\n",
       "circularity                    5\n",
       "distance_circularity           4\n",
       "radius_ratio                   6\n",
       "pr.axis_aspect_ratio           2\n",
       "max.length_aspect_ratio        0\n",
       "scatter_ratio                  1\n",
       "elongatedness                  1\n",
       "pr.axis_rectangularity         3\n",
       "max.length_rectangularity      0\n",
       "scaled_variance                3\n",
       "scaled_variance.1              2\n",
       "scaled_radius_of_gyration      2\n",
       "scaled_radius_of_gyration.1    4\n",
       "skewness_about                 6\n",
       "skewness_about.1               1\n",
       "skewness_about.2               1\n",
       "hollows_ratio                  0\n",
       "class                          0\n",
       "dtype: int64"
      ]
     },
     "execution_count": 4,
     "metadata": {},
     "output_type": "execute_result"
    }
   ],
   "source": [
    "# check for null is na values\n",
    "df_silhoutte.isna().sum()"
   ]
  },
  {
   "cell_type": "code",
   "execution_count": 5,
   "metadata": {},
   "outputs": [],
   "source": [
    "# dropping na values from the dataframe.\n",
    "df_silhoutte.dropna(inplace=True)"
   ]
  },
  {
   "cell_type": "code",
   "execution_count": 6,
   "metadata": {},
   "outputs": [
    {
     "data": {
      "text/plain": [
       "compactness                    0\n",
       "circularity                    0\n",
       "distance_circularity           0\n",
       "radius_ratio                   0\n",
       "pr.axis_aspect_ratio           0\n",
       "max.length_aspect_ratio        0\n",
       "scatter_ratio                  0\n",
       "elongatedness                  0\n",
       "pr.axis_rectangularity         0\n",
       "max.length_rectangularity      0\n",
       "scaled_variance                0\n",
       "scaled_variance.1              0\n",
       "scaled_radius_of_gyration      0\n",
       "scaled_radius_of_gyration.1    0\n",
       "skewness_about                 0\n",
       "skewness_about.1               0\n",
       "skewness_about.2               0\n",
       "hollows_ratio                  0\n",
       "class                          0\n",
       "dtype: int64"
      ]
     },
     "execution_count": 6,
     "metadata": {},
     "output_type": "execute_result"
    }
   ],
   "source": [
    "# checking again if there is any missing value left\n",
    "df_silhoutte.isna().sum()"
   ]
  },
  {
   "cell_type": "markdown",
   "metadata": {},
   "source": [
    "### 2. Print/ Plot the dependent (categorical variable) - Class column"
   ]
  },
  {
   "cell_type": "markdown",
   "metadata": {},
   "source": [
    "Since the variable is categorical, you can use value_counts function"
   ]
  },
  {
   "cell_type": "code",
   "execution_count": 7,
   "metadata": {},
   "outputs": [
    {
     "data": {
      "image/png": "[encoded data removed]",
      "text/plain": [
       "<Figure size 432x288 with 1 Axes>"
      ]
     },
     "metadata": {
      "needs_background": "light"
     },
     "output_type": "display_data"
    }
   ],
   "source": [
    "prob = df_silhoutte['class'].value_counts(normalize=True)\n",
    "threshold = 0.02\n",
    "prob.plot(kind='bar')\n",
    "plt.show()"
   ]
  },
  {
   "cell_type": "code",
   "execution_count": 8,
   "metadata": {},
   "outputs": [
    {
     "name": "stdout",
     "output_type": "stream",
     "text": [
      "car    413\n",
      "bus    205\n",
      "van    195\n",
      "Name: class, dtype: int64\n"
     ]
    }
   ],
   "source": [
    "classValue=df_silhoutte['class'].value_counts()\n",
    "print(classValue)"
   ]
  },
  {
   "cell_type": "markdown",
   "metadata": {},
   "source": [
    "### Check for any missing values in the data "
   ]
  },
  {
   "cell_type": "code",
   "execution_count": 9,
   "metadata": {},
   "outputs": [
    {
     "data": {
      "text/html": [
       "<div>\n",
       "<style scoped>\n",
       "    .dataframe tbody tr th:only-of-type {\n",
       "        vertical-align: middle;\n",
       "    }\n",
       "\n",
       "    .dataframe tbody tr th {\n",
       "        vertical-align: top;\n",
       "    }\n",
       "\n",
       "    .dataframe thead th {\n",
       "        text-align: right;\n",
       "    }\n",
       "</style>\n",
       "<table border=\"1\" class=\"dataframe\">\n",
       "  <thead>\n",
       "    <tr style=\"text-align: right;\">\n",
       "      <th></th>\n",
       "      <th>count</th>\n",
       "      <th>mean</th>\n",
       "      <th>std</th>\n",
       "      <th>min</th>\n",
       "      <th>25%</th>\n",
       "      <th>50%</th>\n",
       "      <th>75%</th>\n",
       "      <th>max</th>\n",
       "    </tr>\n",
       "  </thead>\n",
       "  <tbody>\n",
       "    <tr>\n",
       "      <th>compactness</th>\n",
       "      <td>813.0</td>\n",
       "      <td>93.656827</td>\n",
       "      <td>8.233751</td>\n",
       "      <td>73.0</td>\n",
       "      <td>87.0</td>\n",
       "      <td>93.0</td>\n",
       "      <td>100.0</td>\n",
       "      <td>119.0</td>\n",
       "    </tr>\n",
       "    <tr>\n",
       "      <th>circularity</th>\n",
       "      <td>813.0</td>\n",
       "      <td>44.803198</td>\n",
       "      <td>6.146659</td>\n",
       "      <td>33.0</td>\n",
       "      <td>40.0</td>\n",
       "      <td>44.0</td>\n",
       "      <td>49.0</td>\n",
       "      <td>59.0</td>\n",
       "    </tr>\n",
       "    <tr>\n",
       "      <th>distance_circularity</th>\n",
       "      <td>813.0</td>\n",
       "      <td>82.043050</td>\n",
       "      <td>15.783070</td>\n",
       "      <td>40.0</td>\n",
       "      <td>70.0</td>\n",
       "      <td>79.0</td>\n",
       "      <td>98.0</td>\n",
       "      <td>112.0</td>\n",
       "    </tr>\n",
       "    <tr>\n",
       "      <th>radius_ratio</th>\n",
       "      <td>813.0</td>\n",
       "      <td>169.098401</td>\n",
       "      <td>33.615402</td>\n",
       "      <td>104.0</td>\n",
       "      <td>141.0</td>\n",
       "      <td>167.0</td>\n",
       "      <td>195.0</td>\n",
       "      <td>333.0</td>\n",
       "    </tr>\n",
       "    <tr>\n",
       "      <th>pr.axis_aspect_ratio</th>\n",
       "      <td>813.0</td>\n",
       "      <td>61.774908</td>\n",
       "      <td>7.973000</td>\n",
       "      <td>47.0</td>\n",
       "      <td>57.0</td>\n",
       "      <td>61.0</td>\n",
       "      <td>65.0</td>\n",
       "      <td>138.0</td>\n",
       "    </tr>\n",
       "    <tr>\n",
       "      <th>max.length_aspect_ratio</th>\n",
       "      <td>813.0</td>\n",
       "      <td>8.599016</td>\n",
       "      <td>4.677174</td>\n",
       "      <td>2.0</td>\n",
       "      <td>7.0</td>\n",
       "      <td>8.0</td>\n",
       "      <td>10.0</td>\n",
       "      <td>55.0</td>\n",
       "    </tr>\n",
       "    <tr>\n",
       "      <th>scatter_ratio</th>\n",
       "      <td>813.0</td>\n",
       "      <td>168.563346</td>\n",
       "      <td>33.082186</td>\n",
       "      <td>112.0</td>\n",
       "      <td>146.0</td>\n",
       "      <td>157.0</td>\n",
       "      <td>198.0</td>\n",
       "      <td>265.0</td>\n",
       "    </tr>\n",
       "    <tr>\n",
       "      <th>elongatedness</th>\n",
       "      <td>813.0</td>\n",
       "      <td>40.988930</td>\n",
       "      <td>7.803380</td>\n",
       "      <td>26.0</td>\n",
       "      <td>33.0</td>\n",
       "      <td>43.0</td>\n",
       "      <td>46.0</td>\n",
       "      <td>61.0</td>\n",
       "    </tr>\n",
       "    <tr>\n",
       "      <th>pr.axis_rectangularity</th>\n",
       "      <td>813.0</td>\n",
       "      <td>20.558426</td>\n",
       "      <td>2.573184</td>\n",
       "      <td>17.0</td>\n",
       "      <td>19.0</td>\n",
       "      <td>20.0</td>\n",
       "      <td>23.0</td>\n",
       "      <td>29.0</td>\n",
       "    </tr>\n",
       "    <tr>\n",
       "      <th>max.length_rectangularity</th>\n",
       "      <td>813.0</td>\n",
       "      <td>147.891759</td>\n",
       "      <td>14.504648</td>\n",
       "      <td>118.0</td>\n",
       "      <td>137.0</td>\n",
       "      <td>146.0</td>\n",
       "      <td>159.0</td>\n",
       "      <td>188.0</td>\n",
       "    </tr>\n",
       "    <tr>\n",
       "      <th>scaled_variance</th>\n",
       "      <td>813.0</td>\n",
       "      <td>188.377614</td>\n",
       "      <td>31.165873</td>\n",
       "      <td>130.0</td>\n",
       "      <td>167.0</td>\n",
       "      <td>179.0</td>\n",
       "      <td>217.0</td>\n",
       "      <td>320.0</td>\n",
       "    </tr>\n",
       "    <tr>\n",
       "      <th>scaled_variance.1</th>\n",
       "      <td>813.0</td>\n",
       "      <td>438.382534</td>\n",
       "      <td>175.270368</td>\n",
       "      <td>184.0</td>\n",
       "      <td>318.0</td>\n",
       "      <td>364.0</td>\n",
       "      <td>586.0</td>\n",
       "      <td>1018.0</td>\n",
       "    </tr>\n",
       "    <tr>\n",
       "      <th>scaled_radius_of_gyration</th>\n",
       "      <td>813.0</td>\n",
       "      <td>174.252153</td>\n",
       "      <td>32.332161</td>\n",
       "      <td>109.0</td>\n",
       "      <td>149.0</td>\n",
       "      <td>173.0</td>\n",
       "      <td>198.0</td>\n",
       "      <td>268.0</td>\n",
       "    </tr>\n",
       "    <tr>\n",
       "      <th>scaled_radius_of_gyration.1</th>\n",
       "      <td>813.0</td>\n",
       "      <td>72.399754</td>\n",
       "      <td>7.475994</td>\n",
       "      <td>59.0</td>\n",
       "      <td>67.0</td>\n",
       "      <td>71.0</td>\n",
       "      <td>75.0</td>\n",
       "      <td>135.0</td>\n",
       "    </tr>\n",
       "    <tr>\n",
       "      <th>skewness_about</th>\n",
       "      <td>813.0</td>\n",
       "      <td>6.351784</td>\n",
       "      <td>4.921476</td>\n",
       "      <td>0.0</td>\n",
       "      <td>2.0</td>\n",
       "      <td>6.0</td>\n",
       "      <td>9.0</td>\n",
       "      <td>22.0</td>\n",
       "    </tr>\n",
       "    <tr>\n",
       "      <th>skewness_about.1</th>\n",
       "      <td>813.0</td>\n",
       "      <td>12.687577</td>\n",
       "      <td>8.926951</td>\n",
       "      <td>0.0</td>\n",
       "      <td>6.0</td>\n",
       "      <td>11.0</td>\n",
       "      <td>19.0</td>\n",
       "      <td>41.0</td>\n",
       "    </tr>\n",
       "    <tr>\n",
       "      <th>skewness_about.2</th>\n",
       "      <td>813.0</td>\n",
       "      <td>188.979090</td>\n",
       "      <td>6.153681</td>\n",
       "      <td>176.0</td>\n",
       "      <td>184.0</td>\n",
       "      <td>189.0</td>\n",
       "      <td>193.0</td>\n",
       "      <td>206.0</td>\n",
       "    </tr>\n",
       "    <tr>\n",
       "      <th>hollows_ratio</th>\n",
       "      <td>813.0</td>\n",
       "      <td>195.729397</td>\n",
       "      <td>7.398781</td>\n",
       "      <td>181.0</td>\n",
       "      <td>191.0</td>\n",
       "      <td>197.0</td>\n",
       "      <td>201.0</td>\n",
       "      <td>211.0</td>\n",
       "    </tr>\n",
       "  </tbody>\n",
       "</table>\n",
       "</div>"
      ],
      "text/plain": [
       "                             count        mean         std    min    25%  \\\n",
       "compactness                  813.0   93.656827    8.233751   73.0   87.0   \n",
       "circularity                  813.0   44.803198    6.146659   33.0   40.0   \n",
       "distance_circularity         813.0   82.043050   15.783070   40.0   70.0   \n",
       "radius_ratio                 813.0  169.098401   33.615402  104.0  141.0   \n",
       "pr.axis_aspect_ratio         813.0   61.774908    7.973000   47.0   57.0   \n",
       "max.length_aspect_ratio      813.0    8.599016    4.677174    2.0    7.0   \n",
       "scatter_ratio                813.0  168.563346   33.082186  112.0  146.0   \n",
       "elongatedness                813.0   40.988930    7.803380   26.0   33.0   \n",
       "pr.axis_rectangularity       813.0   20.558426    2.573184   17.0   19.0   \n",
       "max.length_rectangularity    813.0  147.891759   14.504648  118.0  137.0   \n",
       "scaled_variance              813.0  188.377614   31.165873  130.0  167.0   \n",
       "scaled_variance.1            813.0  438.382534  175.270368  184.0  318.0   \n",
       "scaled_radius_of_gyration    813.0  174.252153   32.332161  109.0  149.0   \n",
       "scaled_radius_of_gyration.1  813.0   72.399754    7.475994   59.0   67.0   \n",
       "skewness_about               813.0    6.351784    4.921476    0.0    2.0   \n",
       "skewness_about.1             813.0   12.687577    8.926951    0.0    6.0   \n",
       "skewness_about.2             813.0  188.979090    6.153681  176.0  184.0   \n",
       "hollows_ratio                813.0  195.729397    7.398781  181.0  191.0   \n",
       "\n",
       "                               50%    75%     max  \n",
       "compactness                   93.0  100.0   119.0  \n",
       "circularity                   44.0   49.0    59.0  \n",
       "distance_circularity          79.0   98.0   112.0  \n",
       "radius_ratio                 167.0  195.0   333.0  \n",
       "pr.axis_aspect_ratio          61.0   65.0   138.0  \n",
       "max.length_aspect_ratio        8.0   10.0    55.0  \n",
       "scatter_ratio                157.0  198.0   265.0  \n",
       "elongatedness                 43.0   46.0    61.0  \n",
       "pr.axis_rectangularity        20.0   23.0    29.0  \n",
       "max.length_rectangularity    146.0  159.0   188.0  \n",
       "scaled_variance              179.0  217.0   320.0  \n",
       "scaled_variance.1            364.0  586.0  1018.0  \n",
       "scaled_radius_of_gyration    173.0  198.0   268.0  \n",
       "scaled_radius_of_gyration.1   71.0   75.0   135.0  \n",
       "skewness_about                 6.0    9.0    22.0  \n",
       "skewness_about.1              11.0   19.0    41.0  \n",
       "skewness_about.2             189.0  193.0   206.0  \n",
       "hollows_ratio                197.0  201.0   211.0  "
      ]
     },
     "execution_count": 9,
     "metadata": {},
     "output_type": "execute_result"
    }
   ],
   "source": [
    "# checking the 5 points summary first\n",
    "df_silhoutte.describe().T"
   ]
  },
  {
   "cell_type": "code",
   "execution_count": 10,
   "metadata": {},
   "outputs": [
    {
     "data": {
      "text/plain": [
       "compactness                    0\n",
       "circularity                    0\n",
       "distance_circularity           0\n",
       "radius_ratio                   0\n",
       "pr.axis_aspect_ratio           0\n",
       "max.length_aspect_ratio        0\n",
       "scatter_ratio                  0\n",
       "elongatedness                  0\n",
       "pr.axis_rectangularity         0\n",
       "max.length_rectangularity      0\n",
       "scaled_variance                0\n",
       "scaled_variance.1              0\n",
       "scaled_radius_of_gyration      0\n",
       "scaled_radius_of_gyration.1    0\n",
       "skewness_about                 0\n",
       "skewness_about.1               0\n",
       "skewness_about.2               0\n",
       "hollows_ratio                  0\n",
       "class                          0\n",
       "dtype: int64"
      ]
     },
     "execution_count": 10,
     "metadata": {},
     "output_type": "execute_result"
    }
   ],
   "source": [
    "# since in the first question, it was mentioned to drop missing values. So please check question 1. Right now the answer to this question will be no missing value\n",
    "df_silhoutte.isna().sum()"
   ]
  },
  {
   "cell_type": "markdown",
   "metadata": {},
   "source": [
    "### 3. Standardize the data "
   ]
  },
  {
   "cell_type": "code",
   "execution_count": 11,
   "metadata": {},
   "outputs": [
    {
     "data": {
      "text/html": [
       "<div>\n",
       "<style scoped>\n",
       "    .dataframe tbody tr th:only-of-type {\n",
       "        vertical-align: middle;\n",
       "    }\n",
       "\n",
       "    .dataframe tbody tr th {\n",
       "        vertical-align: top;\n",
       "    }\n",
       "\n",
       "    .dataframe thead th {\n",
       "        text-align: right;\n",
       "    }\n",
       "</style>\n",
       "<table border=\"1\" class=\"dataframe\">\n",
       "  <thead>\n",
       "    <tr style=\"text-align: right;\">\n",
       "      <th></th>\n",
       "      <th>0</th>\n",
       "      <th>1</th>\n",
       "      <th>2</th>\n",
       "      <th>3</th>\n",
       "      <th>4</th>\n",
       "    </tr>\n",
       "  </thead>\n",
       "  <tbody>\n",
       "    <tr>\n",
       "      <th>compactness</th>\n",
       "      <td>0.163231</td>\n",
       "      <td>-0.322874</td>\n",
       "      <td>1.256966</td>\n",
       "      <td>-0.079822</td>\n",
       "      <td>-1.052030</td>\n",
       "    </tr>\n",
       "    <tr>\n",
       "      <th>circularity</th>\n",
       "      <td>0.520408</td>\n",
       "      <td>-0.619123</td>\n",
       "      <td>0.845988</td>\n",
       "      <td>-0.619123</td>\n",
       "      <td>-0.130753</td>\n",
       "    </tr>\n",
       "    <tr>\n",
       "      <th>distance_circularity</th>\n",
       "      <td>0.060669</td>\n",
       "      <td>0.124067</td>\n",
       "      <td>1.518823</td>\n",
       "      <td>-0.002729</td>\n",
       "      <td>-0.763506</td>\n",
       "    </tr>\n",
       "    <tr>\n",
       "      <th>radius_ratio</th>\n",
       "      <td>0.264970</td>\n",
       "      <td>-0.836393</td>\n",
       "      <td>1.187734</td>\n",
       "      <td>-0.300595</td>\n",
       "      <td>1.068668</td>\n",
       "    </tr>\n",
       "    <tr>\n",
       "      <th>pr.axis_aspect_ratio</th>\n",
       "      <td>1.283254</td>\n",
       "      <td>-0.599253</td>\n",
       "      <td>0.530251</td>\n",
       "      <td>0.153750</td>\n",
       "      <td>5.173770</td>\n",
       "    </tr>\n",
       "    <tr>\n",
       "      <th>max.length_aspect_ratio</th>\n",
       "      <td>0.299721</td>\n",
       "      <td>0.085785</td>\n",
       "      <td>0.299721</td>\n",
       "      <td>0.085785</td>\n",
       "      <td>9.285029</td>\n",
       "    </tr>\n",
       "    <tr>\n",
       "      <th>scatter_ratio</th>\n",
       "      <td>-0.198517</td>\n",
       "      <td>-0.591720</td>\n",
       "      <td>1.162569</td>\n",
       "      <td>-0.742952</td>\n",
       "      <td>-0.591720</td>\n",
       "    </tr>\n",
       "    <tr>\n",
       "      <th>elongatedness</th>\n",
       "      <td>0.129648</td>\n",
       "      <td>0.514333</td>\n",
       "      <td>-1.152637</td>\n",
       "      <td>0.642562</td>\n",
       "      <td>0.514333</td>\n",
       "    </tr>\n",
       "    <tr>\n",
       "      <th>pr.axis_rectangularity</th>\n",
       "      <td>-0.217151</td>\n",
       "      <td>-0.606014</td>\n",
       "      <td>0.949438</td>\n",
       "      <td>-0.606014</td>\n",
       "      <td>-0.606014</td>\n",
       "    </tr>\n",
       "    <tr>\n",
       "      <th>max.length_rectangularity</th>\n",
       "      <td>0.766312</td>\n",
       "      <td>-0.337462</td>\n",
       "      <td>0.697326</td>\n",
       "      <td>-0.337462</td>\n",
       "      <td>-0.268476</td>\n",
       "    </tr>\n",
       "    <tr>\n",
       "      <th>scaled_variance</th>\n",
       "      <td>-0.397397</td>\n",
       "      <td>-0.590034</td>\n",
       "      <td>1.111591</td>\n",
       "      <td>-0.911095</td>\n",
       "      <td>1.689501</td>\n",
       "    </tr>\n",
       "    <tr>\n",
       "      <th>scaled_variance.1</th>\n",
       "      <td>-0.339014</td>\n",
       "      <td>-0.618754</td>\n",
       "      <td>1.122486</td>\n",
       "      <td>-0.738643</td>\n",
       "      <td>-0.647299</td>\n",
       "    </tr>\n",
       "    <tr>\n",
       "      <th>scaled_radius_of_gyration</th>\n",
       "      <td>0.301676</td>\n",
       "      <td>-0.502972</td>\n",
       "      <td>1.415804</td>\n",
       "      <td>-1.462359</td>\n",
       "      <td>0.425468</td>\n",
       "    </tr>\n",
       "    <tr>\n",
       "      <th>scaled_radius_of_gyration.1</th>\n",
       "      <td>-0.321192</td>\n",
       "      <td>-0.053505</td>\n",
       "      <td>0.080339</td>\n",
       "      <td>-1.258099</td>\n",
       "      <td>7.307905</td>\n",
       "    </tr>\n",
       "    <tr>\n",
       "      <th>skewness_about</th>\n",
       "      <td>-0.071523</td>\n",
       "      <td>0.538425</td>\n",
       "      <td>1.555006</td>\n",
       "      <td>-0.071523</td>\n",
       "      <td>0.538425</td>\n",
       "    </tr>\n",
       "    <tr>\n",
       "      <th>skewness_about.1</th>\n",
       "      <td>0.371287</td>\n",
       "      <td>0.147109</td>\n",
       "      <td>-0.413338</td>\n",
       "      <td>-0.301249</td>\n",
       "      <td>-0.189159</td>\n",
       "    </tr>\n",
       "    <tr>\n",
       "      <th>skewness_about.2</th>\n",
       "      <td>-0.321809</td>\n",
       "      <td>0.003400</td>\n",
       "      <td>-0.159204</td>\n",
       "      <td>1.629444</td>\n",
       "      <td>-1.460039</td>\n",
       "    </tr>\n",
       "    <tr>\n",
       "      <th>hollows_ratio</th>\n",
       "      <td>0.171837</td>\n",
       "      <td>0.442318</td>\n",
       "      <td>0.036596</td>\n",
       "      <td>1.524243</td>\n",
       "      <td>-1.721531</td>\n",
       "    </tr>\n",
       "  </tbody>\n",
       "</table>\n",
       "</div>"
      ],
      "text/plain": [
       "                                    0         1         2         3         4\n",
       "compactness                  0.163231 -0.322874  1.256966 -0.079822 -1.052030\n",
       "circularity                  0.520408 -0.619123  0.845988 -0.619123 -0.130753\n",
       "distance_circularity         0.060669  0.124067  1.518823 -0.002729 -0.763506\n",
       "radius_ratio                 0.264970 -0.836393  1.187734 -0.300595  1.068668\n",
       "pr.axis_aspect_ratio         1.283254 -0.599253  0.530251  0.153750  5.173770\n",
       "max.length_aspect_ratio      0.299721  0.085785  0.299721  0.085785  9.285029\n",
       "scatter_ratio               -0.198517 -0.591720  1.162569 -0.742952 -0.591720\n",
       "elongatedness                0.129648  0.514333 -1.152637  0.642562  0.514333\n",
       "pr.axis_rectangularity      -0.217151 -0.606014  0.949438 -0.606014 -0.606014\n",
       "max.length_rectangularity    0.766312 -0.337462  0.697326 -0.337462 -0.268476\n",
       "scaled_variance             -0.397397 -0.590034  1.111591 -0.911095  1.689501\n",
       "scaled_variance.1           -0.339014 -0.618754  1.122486 -0.738643 -0.647299\n",
       "scaled_radius_of_gyration    0.301676 -0.502972  1.415804 -1.462359  0.425468\n",
       "scaled_radius_of_gyration.1 -0.321192 -0.053505  0.080339 -1.258099  7.307905\n",
       "skewness_about              -0.071523  0.538425  1.555006 -0.071523  0.538425\n",
       "skewness_about.1             0.371287  0.147109 -0.413338 -0.301249 -0.189159\n",
       "skewness_about.2            -0.321809  0.003400 -0.159204  1.629444 -1.460039\n",
       "hollows_ratio                0.171837  0.442318  0.036596  1.524243 -1.721531"
      ]
     },
     "execution_count": 11,
     "metadata": {},
     "output_type": "execute_result"
    }
   ],
   "source": [
    "df1=df_silhoutte.drop('class', axis=1)\n",
    "df1=df1.apply(zscore)\n",
    "df1.head().T\n",
    "\n"
   ]
  },
  {
   "cell_type": "markdown",
   "metadata": {},
   "source": [
    "Since the dimensions of the data are not really known to us, it would be wise to standardize the data using z scores before we go for any clustering methods.\n",
    "You can use zscore function to do this"
   ]
  },
  {
   "cell_type": "code",
   "execution_count": null,
   "metadata": {},
   "outputs": [],
   "source": []
  },
  {
   "cell_type": "code",
   "execution_count": null,
   "metadata": {},
   "outputs": [],
   "source": []
  },
  {
   "cell_type": "markdown",
   "metadata": {},
   "source": [
    "### K - Means Clustering"
   ]
  },
  {
   "cell_type": "markdown",
   "metadata": {},
   "source": [
    "### 4. Assign a dummy array called distortion"
   ]
  },
  {
   "cell_type": "code",
   "execution_count": 12,
   "metadata": {},
   "outputs": [
    {
     "data": {
      "text/plain": [
       "[]"
      ]
     },
     "execution_count": 12,
     "metadata": {},
     "output_type": "execute_result"
    }
   ],
   "source": [
    "distortion=[]\n",
    "distortion"
   ]
  },
  {
   "cell_type": "markdown",
   "metadata": {},
   "source": [
    "You can later use this array to plot the elbow plot"
   ]
  },
  {
   "cell_type": "code",
   "execution_count": null,
   "metadata": {},
   "outputs": [],
   "source": []
  },
  {
   "cell_type": "markdown",
   "metadata": {},
   "source": [
    "### 5. Calculating distortion - C distance"
   ]
  },
  {
   "cell_type": "code",
   "execution_count": 13,
   "metadata": {},
   "outputs": [],
   "source": [
    "from scipy.spatial.distance import cdist\n"
   ]
  },
  {
   "cell_type": "code",
   "execution_count": 14,
   "metadata": {},
   "outputs": [],
   "source": [
    "sse_df = pd.DataFrame(columns=['K','SSE'])\n",
    "K=range(1,11)\n",
    "for i in K :\n",
    "    \n",
    "    #Initialize KMeans\n",
    "    km = KMeans(n_clusters=i)\n",
    "    \n",
    "    #Fit on the data\n",
    "    km.fit(df1)\n",
    "    \n",
    "    #Add cluster information for each record in dataframe\n",
    "    #df1['k_' + str(i)] = km.predict(df1)\n",
    "    cdistValue = (sum(np.min(cdist(df1, km.cluster_centers_, 'euclidean'), axis=1)))\n",
    "    distortion.append(cdistValue/df1.shape[0])\n",
    "    #Track K and SSE information in sse_df\n",
    "    sse_df.loc[sse_df.shape[0]] = [i, km.inertia_]\n",
    "    "
   ]
  },
  {
   "cell_type": "markdown",
   "metadata": {},
   "source": [
    "Iterating values of k from 1 to 10 fit K means model\n",
    "Using c distance - Get the measure for Sum of squares error."
   ]
  },
  {
   "cell_type": "code",
   "execution_count": 15,
   "metadata": {},
   "outputs": [
    {
     "data": {
      "text/plain": [
       "1656.5093953746164"
      ]
     },
     "execution_count": 15,
     "metadata": {},
     "output_type": "execute_result"
    }
   ],
   "source": [
    "cdistValue"
   ]
  },
  {
   "cell_type": "code",
   "execution_count": null,
   "metadata": {},
   "outputs": [],
   "source": []
  },
  {
   "cell_type": "markdown",
   "metadata": {},
   "source": [
    "### 6. Plotting Elbow/ Scree Plot"
   ]
  },
  {
   "cell_type": "code",
   "execution_count": 16,
   "metadata": {},
   "outputs": [
    {
     "data": {
      "image/png": "[encoded data removed]",
      "text/plain": [
       "<Figure size 432x288 with 1 Axes>"
      ]
     },
     "metadata": {
      "needs_background": "light"
     },
     "output_type": "display_data"
    }
   ],
   "source": [
    "# sns.lineplot(x='K', y='SSE', data=sse_df)\n",
    "plt.plot(K, sse_df.SSE, 'bx-')\n",
    "plt.xlabel('K')\n",
    "plt.ylabel('Sum_of_squared_distances')\n",
    "plt.title('Elbow Method For Optimal k')\n",
    "plt.show()"
   ]
  },
  {
   "cell_type": "markdown",
   "metadata": {},
   "source": [
    "Use Matplotlib to plot the scree plot - Note: Scree plot plots distortion vs the no of clusters"
   ]
  },
  {
   "cell_type": "code",
   "execution_count": 17,
   "metadata": {},
   "outputs": [
    {
     "data": {
      "image/png": "[encoded data removed]",
      "text/plain": [
       "<Figure size 432x288 with 1 Axes>"
      ]
     },
     "metadata": {
      "needs_background": "light"
     },
     "output_type": "display_data"
    }
   ],
   "source": [
    "plt.plot(K, distortion, 'bx-')\n",
    "plt.xlabel('K')\n",
    "plt.ylabel('Distortion')\n",
    "plt.title('Scree Plot For Optimal k')\n",
    "plt.show()"
   ]
  },
  {
   "cell_type": "markdown",
   "metadata": {},
   "source": [
    "### Find out the optimal value of K"
   ]
  },
  {
   "cell_type": "code",
   "execution_count": 18,
   "metadata": {},
   "outputs": [
    {
     "name": "stdout",
     "output_type": "stream",
     "text": [
      "After K=4, the Sum of Squared Error value has decreased drastically. Therefore Optimal Value of K=4\n"
     ]
    }
   ],
   "source": [
    "print(\"After K=4, the Sum of Squared Error value has decreased drastically. Therefore Optimal Value of K=4\")"
   ]
  },
  {
   "cell_type": "code",
   "execution_count": 19,
   "metadata": {},
   "outputs": [
    {
     "data": {
      "text/plain": [
       "compactness                    float64\n",
       "circularity                    float64\n",
       "distance_circularity           float64\n",
       "radius_ratio                   float64\n",
       "pr.axis_aspect_ratio           float64\n",
       "max.length_aspect_ratio        float64\n",
       "scatter_ratio                  float64\n",
       "elongatedness                  float64\n",
       "pr.axis_rectangularity         float64\n",
       "max.length_rectangularity      float64\n",
       "scaled_variance                float64\n",
       "scaled_variance.1              float64\n",
       "scaled_radius_of_gyration      float64\n",
       "scaled_radius_of_gyration.1    float64\n",
       "skewness_about                 float64\n",
       "skewness_about.1               float64\n",
       "skewness_about.2               float64\n",
       "hollows_ratio                  float64\n",
       "dtype: object"
      ]
     },
     "execution_count": 19,
     "metadata": {},
     "output_type": "execute_result"
    }
   ],
   "source": [
    "df1.dtypes"
   ]
  },
  {
   "cell_type": "markdown",
   "metadata": {},
   "source": [
    "### Using optimal value of K - Cluster the data. \n",
    "Note: Since the data has more than 2 dimension we cannot visualize the data. As an alternative, we can observe the centroids and note how they are distributed across different dimensions"
   ]
  },
  {
   "cell_type": "code",
   "execution_count": 20,
   "metadata": {},
   "outputs": [
    {
     "data": {
      "text/plain": [
       "<matplotlib.collections.PathCollection at 0xc2418d0>"
      ]
     },
     "execution_count": 20,
     "metadata": {},
     "output_type": "execute_result"
    },
    {
     "data": {
      "image/png": "[encoded data removed]",
      "text/plain": [
       "<Figure size 432x288 with 1 Axes>"
      ]
     },
     "metadata": {
      "needs_background": "light"
     },
     "output_type": "display_data"
    }
   ],
   "source": [
    "km=KMeans(n_clusters=4)\n",
    "km.fit(df1)\n",
    "df1['k_4'] = km.predict(df1)\n",
    "sns.scatterplot(x='scatter_ratio', y='distance_circularity', hue='k_4', data=df1, palette='spring')\n",
    "plt.scatter(km.cluster_centers_[:,1], km.cluster_centers_[:,2], s=100, marker='s', c='red', label='Centroids')"
   ]
  },
  {
   "cell_type": "markdown",
   "metadata": {},
   "source": [
    "You can use kmeans.cluster_centers_ function to pull the centroid information from the instance"
   ]
  },
  {
   "cell_type": "code",
   "execution_count": 21,
   "metadata": {},
   "outputs": [],
   "source": [
    "df1.drop('k_4', axis=1, inplace=True)\n"
   ]
  },
  {
   "cell_type": "markdown",
   "metadata": {},
   "source": [
    "### 7. Store the centroids in a dataframe with column names from the original dataset given "
   ]
  },
  {
   "cell_type": "code",
   "execution_count": 22,
   "metadata": {},
   "outputs": [
    {
     "data": {
      "text/html": [
       "<div>\n",
       "<style scoped>\n",
       "    .dataframe tbody tr th:only-of-type {\n",
       "        vertical-align: middle;\n",
       "    }\n",
       "\n",
       "    .dataframe tbody tr th {\n",
       "        vertical-align: top;\n",
       "    }\n",
       "\n",
       "    .dataframe thead th {\n",
       "        text-align: right;\n",
       "    }\n",
       "</style>\n",
       "<table border=\"1\" class=\"dataframe\">\n",
       "  <thead>\n",
       "    <tr style=\"text-align: right;\">\n",
       "      <th></th>\n",
       "      <th>0</th>\n",
       "      <th>1</th>\n",
       "      <th>2</th>\n",
       "      <th>3</th>\n",
       "    </tr>\n",
       "  </thead>\n",
       "  <tbody>\n",
       "    <tr>\n",
       "      <th>compactness</th>\n",
       "      <td>1.154428</td>\n",
       "      <td>-0.915758</td>\n",
       "      <td>-0.228397</td>\n",
       "      <td>-0.733024</td>\n",
       "    </tr>\n",
       "    <tr>\n",
       "      <th>circularity</th>\n",
       "      <td>1.184286</td>\n",
       "      <td>-0.522403</td>\n",
       "      <td>-0.577113</td>\n",
       "      <td>0.072735</td>\n",
       "    </tr>\n",
       "    <tr>\n",
       "      <th>distance_circularity</th>\n",
       "      <td>1.211987</td>\n",
       "      <td>-0.889506</td>\n",
       "      <td>-0.308062</td>\n",
       "      <td>-0.272171</td>\n",
       "    </tr>\n",
       "    <tr>\n",
       "      <th>radius_ratio</th>\n",
       "      <td>0.973322</td>\n",
       "      <td>-1.087728</td>\n",
       "      <td>-0.041242</td>\n",
       "      <td>2.947683</td>\n",
       "    </tr>\n",
       "    <tr>\n",
       "      <th>pr.axis_aspect_ratio</th>\n",
       "      <td>0.094921</td>\n",
       "      <td>-0.561971</td>\n",
       "      <td>0.178445</td>\n",
       "      <td>6.836652</td>\n",
       "    </tr>\n",
       "    <tr>\n",
       "      <th>max.length_aspect_ratio</th>\n",
       "      <td>0.218659</td>\n",
       "      <td>-0.300016</td>\n",
       "      <td>-0.173699</td>\n",
       "      <td>8.696706</td>\n",
       "    </tr>\n",
       "    <tr>\n",
       "      <th>scatter_ratio</th>\n",
       "      <td>1.297968</td>\n",
       "      <td>-0.779779</td>\n",
       "      <td>-0.456880</td>\n",
       "      <td>-0.535008</td>\n",
       "    </tr>\n",
       "    <tr>\n",
       "      <th>elongatedness</th>\n",
       "      <td>-1.214247</td>\n",
       "      <td>0.867364</td>\n",
       "      <td>0.321991</td>\n",
       "      <td>0.466248</td>\n",
       "    </tr>\n",
       "    <tr>\n",
       "      <th>pr.axis_rectangularity</th>\n",
       "      <td>1.301845</td>\n",
       "      <td>-0.745939</td>\n",
       "      <td>-0.485592</td>\n",
       "      <td>-0.557406</td>\n",
       "    </tr>\n",
       "    <tr>\n",
       "      <th>max.length_rectangularity</th>\n",
       "      <td>1.098306</td>\n",
       "      <td>-0.485536</td>\n",
       "      <td>-0.539969</td>\n",
       "      <td>0.283411</td>\n",
       "    </tr>\n",
       "    <tr>\n",
       "      <th>scaled_variance</th>\n",
       "      <td>1.205903</td>\n",
       "      <td>-0.801746</td>\n",
       "      <td>-0.421529</td>\n",
       "      <td>1.697528</td>\n",
       "    </tr>\n",
       "    <tr>\n",
       "      <th>scaled_variance.1</th>\n",
       "      <td>1.308987</td>\n",
       "      <td>-0.783837</td>\n",
       "      <td>-0.461481</td>\n",
       "      <td>-0.588068</td>\n",
       "    </tr>\n",
       "    <tr>\n",
       "      <th>scaled_radius_of_gyration</th>\n",
       "      <td>1.091213</td>\n",
       "      <td>-0.390575</td>\n",
       "      <td>-0.605499</td>\n",
       "      <td>0.212701</td>\n",
       "    </tr>\n",
       "    <tr>\n",
       "      <th>scaled_radius_of_gyration.1</th>\n",
       "      <td>-0.107879</td>\n",
       "      <td>0.783159</td>\n",
       "      <td>-0.642849</td>\n",
       "      <td>4.965638</td>\n",
       "    </tr>\n",
       "    <tr>\n",
       "      <th>skewness_about</th>\n",
       "      <td>0.168326</td>\n",
       "      <td>-0.090239</td>\n",
       "      <td>-0.062341</td>\n",
       "      <td>-0.274839</td>\n",
       "    </tr>\n",
       "    <tr>\n",
       "      <th>skewness_about.1</th>\n",
       "      <td>0.267955</td>\n",
       "      <td>-0.296090</td>\n",
       "      <td>0.012963</td>\n",
       "      <td>-0.231193</td>\n",
       "    </tr>\n",
       "    <tr>\n",
       "      <th>skewness_about.2</th>\n",
       "      <td>0.004670</td>\n",
       "      <td>-1.047745</td>\n",
       "      <td>0.822192</td>\n",
       "      <td>-0.707994</td>\n",
       "    </tr>\n",
       "    <tr>\n",
       "      <th>hollows_ratio</th>\n",
       "      <td>0.190327</td>\n",
       "      <td>-1.103612</td>\n",
       "      <td>0.705383</td>\n",
       "      <td>-0.453651</td>\n",
       "    </tr>\n",
       "  </tbody>\n",
       "</table>\n",
       "</div>"
      ],
      "text/plain": [
       "                                    0         1         2         3\n",
       "compactness                  1.154428 -0.915758 -0.228397 -0.733024\n",
       "circularity                  1.184286 -0.522403 -0.577113  0.072735\n",
       "distance_circularity         1.211987 -0.889506 -0.308062 -0.272171\n",
       "radius_ratio                 0.973322 -1.087728 -0.041242  2.947683\n",
       "pr.axis_aspect_ratio         0.094921 -0.561971  0.178445  6.836652\n",
       "max.length_aspect_ratio      0.218659 -0.300016 -0.173699  8.696706\n",
       "scatter_ratio                1.297968 -0.779779 -0.456880 -0.535008\n",
       "elongatedness               -1.214247  0.867364  0.321991  0.466248\n",
       "pr.axis_rectangularity       1.301845 -0.745939 -0.485592 -0.557406\n",
       "max.length_rectangularity    1.098306 -0.485536 -0.539969  0.283411\n",
       "scaled_variance              1.205903 -0.801746 -0.421529  1.697528\n",
       "scaled_variance.1            1.308987 -0.783837 -0.461481 -0.588068\n",
       "scaled_radius_of_gyration    1.091213 -0.390575 -0.605499  0.212701\n",
       "scaled_radius_of_gyration.1 -0.107879  0.783159 -0.642849  4.965638\n",
       "skewness_about               0.168326 -0.090239 -0.062341 -0.274839\n",
       "skewness_about.1             0.267955 -0.296090  0.012963 -0.231193\n",
       "skewness_about.2             0.004670 -1.047745  0.822192 -0.707994\n",
       "hollows_ratio                0.190327 -1.103612  0.705383 -0.453651"
      ]
     },
     "execution_count": 22,
     "metadata": {},
     "output_type": "execute_result"
    }
   ],
   "source": [
    "\n",
    "centroids=pd.DataFrame(columns=df1.columns, data=km.cluster_centers_)\n",
    "centroids.head().T"
   ]
  },
  {
   "cell_type": "markdown",
   "metadata": {},
   "source": [
    "Hint: Use pd.Dataframe function "
   ]
  },
  {
   "cell_type": "code",
   "execution_count": null,
   "metadata": {},
   "outputs": [],
   "source": []
  },
  {
   "cell_type": "code",
   "execution_count": null,
   "metadata": {},
   "outputs": [],
   "source": []
  },
  {
   "cell_type": "markdown",
   "metadata": {},
   "source": [
    "### Use kmeans.labels_ function to print out the labels of the classes"
   ]
  },
  {
   "cell_type": "code",
   "execution_count": 23,
   "metadata": {},
   "outputs": [
    {
     "name": "stdout",
     "output_type": "stream",
     "text": [
      "[2 2 0 2 3 2 2 2 2 2 2 2 2 0 1 2 0 1 1 2 2 0 2 1 0 0 1 2 2 2 0 2 1 3 0 1 0\n",
      " 1 1 2 0 1 1 1 1 2 1 2 0 2 0 2 2 1 0 1 0 1 1 1 2 1 0 2 0 0 2 1 2 0 2 1 1 0\n",
      " 2 1 2 0 2 1 2 1 0 2 0 2 1 0 1 1 0 1 3 2 2 1 0 0 1 1 0 2 2 1 1 1 2 0 0 2 1\n",
      " 1 2 1 1 1 1 1 2 0 0 2 2 1 0 3 1 2 1 2 2 0 1 2 0 2 2 2 2 0 2 2 0 2 0 2 1 2\n",
      " 1 0 2 2 0 0 2 0 1 1 0 0 2 0 2 2 2 2 1 0 1 2 1 0 2 2 2 0 2 0 2 0 2 1 0 1 1\n",
      " 1 2 2 0 0 2 2 2 1 0 2 2 2 0 1 1 0 1 2 0 1 1 1 2 0 2 0 1 1 1 1 0 2 1 2 0 1\n",
      " 2 2 1 0 1 1 2 2 0 1 0 1 2 2 0 2 2 0 0 1 2 2 2 0 1 2 2 1 1 2 2 0 2 1 1 0 2\n",
      " 2 1 1 0 1 2 0 1 2 3 2 2 0 2 0 1 2 2 0 2 2 2 1 2 0 0 0 0 1 2 0 1 1 1 2 1 0\n",
      " 0 1 0 2 1 0 1 2 2 0 0 1 0 0 1 0 2 2 2 1 1 0 0 0 2 2 2 0 1 2 1 0 2 2 0 2 0\n",
      " 0 0 2 1 1 0 1 1 1 2 2 2 2 1 0 0 1 1 0 1 0 1 0 2 1 2 1 3 0 1 2 2 2 0 2 2 2\n",
      " 2 0 2 0 2 0 2 1 1 2 2 2 1 1 2 1 0 2 2 1 1 0 2 1 2 2 0 2 0 2 0 0 1 1 0 2 1\n",
      " 1 2 0 0 1 2 0 0 1 0 0 0 2 2 2 2 2 0 1 1 2 0 2 2 0 2 1 0 1 1 0 2 1 0 0 0 1\n",
      " 0 0 1 2 1 0 0 2 2 1 1 0 2 1 0 0 2 1 0 0 2 1 1 0 0 0 1 1 0 0 0 2 2 0 1 2 0\n",
      " 2 1 1 2 0 1 2 2 1 3 0 2 0 0 2 1 2 0 0 1 1 2 0 2 0 0 2 2 2 2 1 1 1 2 2 0 1\n",
      " 1 2 1 0 2 0 1 1 0 0 2 0 2 2 2 0 2 1 2 0 2 2 1 0 0 0 0 2 1 1 1 0 0 0 2 0 1\n",
      " 2 0 1 1 1 2 1 0 2 2 2 2 2 2 0 2 2 0 2 2 2 1 0 1 1 2 1 2 2 1 1 0 0 1 2 0 2\n",
      " 0 2 2 0 2 1 0 1 0 1 1 2 1 2 0 0 1 0 2 2 1 2 1 0 2 0 1 2 2 2 1 1 1 2 0 2 0\n",
      " 1 2 2 2 2 0 2 1 0 2 0 2 2 0 1 0 1 2 2 2 1 0 2 1 2 0 1 0 2 2 0 1 2 1 2 2 1\n",
      " 2 0 0 2 2 0 0 3 2 1 2 0 0 0 0 2 0 2 2 0 0 2 0 2 0 2 1 0 2 1 0 0 0 2 0 1 1\n",
      " 0 0 0 2 0 2 2 0 2 1 2 1 2 0 2 1 2 2 2 1 0 1 1 1 0 0 1 0 0 1 2 2 0 2 1 0 0\n",
      " 1 2 2 0 0 0 1 0 2 0 0 1 1 0 1 0 2 1 2 0 0 2 1 2 0 0 2 2 1 2 2 0 1 2 0 1 1\n",
      " 0 1 2 1 1 1 2 0 0 2 1 0 2 0 0 1 2 0 1 1 2 2 0 1 1 0 1 2 2 2 2 2 2 0 2 1]\n"
     ]
    }
   ],
   "source": [
    "print(km.labels_)"
   ]
  },
  {
   "cell_type": "code",
   "execution_count": null,
   "metadata": {},
   "outputs": [],
   "source": []
  },
  {
   "cell_type": "markdown",
   "metadata": {},
   "source": [
    "## Hierarchical Clustering "
   ]
  },
  {
   "cell_type": "markdown",
   "metadata": {},
   "source": [
    "### 8. Variable creation"
   ]
  },
  {
   "cell_type": "markdown",
   "metadata": {},
   "source": [
    "For Hierarchical clustering, we will create datasets using multivariate normal distribution to visually observe how the clusters are formed at the end"
   ]
  },
  {
   "cell_type": "code",
   "execution_count": null,
   "metadata": {},
   "outputs": [],
   "source": []
  },
  {
   "cell_type": "code",
   "execution_count": 24,
   "metadata": {},
   "outputs": [],
   "source": [
    "a = np.random.multivariate_normal([10, 0], [[3, 1], [1, 4]], size=[100,])\n",
    "b = np.random.multivariate_normal([0, 20], [[3, 1], [1, 4]], size=[50,])\n",
    "c = np.random.multivariate_normal([10, 20], [[3, 1], [1, 4]], size=[100,])"
   ]
  },
  {
   "cell_type": "code",
   "execution_count": 25,
   "metadata": {},
   "outputs": [],
   "source": [
    "datafr=pd.DataFrame(data=a, columns=['A', 'B'])\n",
    "\n",
    "datafr2 = pd.DataFrame(data=b, columns=['A', 'B'])\n",
    "datafr3 = pd.DataFrame(data=c, columns=['A', 'B'])\n",
    "dataFrame = datafr.append([datafr2, datafr3])\n",
    "\n"
   ]
  },
  {
   "cell_type": "markdown",
   "metadata": {},
   "source": [
    "### 9. Combine all three arrays a,b,c into a dataframe"
   ]
  },
  {
   "cell_type": "code",
   "execution_count": 26,
   "metadata": {},
   "outputs": [
    {
     "data": {
      "text/plain": [
       "(250, 2)"
      ]
     },
     "execution_count": 26,
     "metadata": {},
     "output_type": "execute_result"
    }
   ],
   "source": [
    "new_dataframe=pd.DataFrame(columns=['A', 'B'], data=dataFrame)\n",
    "new_dataframe.shape"
   ]
  },
  {
   "cell_type": "code",
   "execution_count": null,
   "metadata": {},
   "outputs": [],
   "source": []
  },
  {
   "cell_type": "markdown",
   "metadata": {},
   "source": [
    "### 10. Use scatter matrix to print all the 3 distributions"
   ]
  },
  {
   "cell_type": "code",
   "execution_count": 27,
   "metadata": {},
   "outputs": [
    {
     "data": {
      "text/plain": [
       "array([[<matplotlib.axes._subplots.AxesSubplot object at 0x000000000C6E9B00>,\n",
       "        <matplotlib.axes._subplots.AxesSubplot object at 0x000000000C7009B0>],\n",
       "       [<matplotlib.axes._subplots.AxesSubplot object at 0x000000000CB70B38>,\n",
       "        <matplotlib.axes._subplots.AxesSubplot object at 0x000000000CBA2C88>]],\n",
       "      dtype=object)"
      ]
     },
     "execution_count": 27,
     "metadata": {},
     "output_type": "execute_result"
    },
    {
     "data": {
      "image/png": "[encoded data removed]",
      "text/plain": [
       "<Figure size 432x288 with 4 Axes>"
      ]
     },
     "metadata": {
      "needs_background": "light"
     },
     "output_type": "display_data"
    }
   ],
   "source": [
    "pd.plotting.scatter_matrix(new_dataframe)\n"
   ]
  },
  {
   "cell_type": "code",
   "execution_count": null,
   "metadata": {},
   "outputs": [],
   "source": []
  },
  {
   "cell_type": "markdown",
   "metadata": {},
   "source": [
    "### 11. Find out the linkage matrix"
   ]
  },
  {
   "cell_type": "code",
   "execution_count": 28,
   "metadata": {},
   "outputs": [
    {
     "data": {
      "text/plain": [
       "array([[2.09000000e+02, 2.40000000e+02, 3.84985111e-02, 2.00000000e+00],\n",
       "       [2.23000000e+02, 2.48000000e+02, 5.02201916e-02, 2.00000000e+00],\n",
       "       [2.10000000e+01, 3.70000000e+01, 5.16367316e-02, 2.00000000e+00],\n",
       "       [6.40000000e+01, 9.80000000e+01, 5.46244928e-02, 2.00000000e+00],\n",
       "       [5.80000000e+01, 9.60000000e+01, 8.23656454e-02, 2.00000000e+00],\n",
       "       [1.38000000e+02, 1.40000000e+02, 8.91578713e-02, 2.00000000e+00],\n",
       "       [2.19000000e+02, 2.41000000e+02, 9.20486463e-02, 2.00000000e+00],\n",
       "       [1.41000000e+02, 1.49000000e+02, 1.00798974e-01, 2.00000000e+00],\n",
       "       [2.06000000e+02, 2.45000000e+02, 1.03836494e-01, 2.00000000e+00],\n",
       "       [0.00000000e+00, 1.70000000e+01, 1.10312316e-01, 2.00000000e+00],\n",
       "       [1.74000000e+02, 2.31000000e+02, 1.13409522e-01, 2.00000000e+00],\n",
       "       [1.57000000e+02, 2.02000000e+02, 1.13480831e-01, 2.00000000e+00],\n",
       "       [1.59000000e+02, 1.81000000e+02, 1.14492948e-01, 2.00000000e+00],\n",
       "       [1.30000000e+01, 8.00000000e+01, 1.19371749e-01, 2.00000000e+00],\n",
       "       [1.80000000e+01, 8.60000000e+01, 1.31864281e-01, 2.00000000e+00],\n",
       "       [4.40000000e+01, 7.30000000e+01, 1.32688875e-01, 2.00000000e+00],\n",
       "       [2.32000000e+02, 2.58000000e+02, 1.43218029e-01, 3.00000000e+00],\n",
       "       [3.00000000e+00, 8.30000000e+01, 1.47096252e-01, 2.00000000e+00],\n",
       "       [2.20000000e+01, 2.40000000e+01, 1.47668256e-01, 2.00000000e+00],\n",
       "       [1.53000000e+02, 2.51000000e+02, 1.51029549e-01, 3.00000000e+00],\n",
       "       [2.43000000e+02, 2.50000000e+02, 1.52703898e-01, 3.00000000e+00],\n",
       "       [6.50000000e+01, 9.70000000e+01, 1.53926547e-01, 2.00000000e+00],\n",
       "       [9.40000000e+01, 2.65000000e+02, 1.55415251e-01, 3.00000000e+00],\n",
       "       [4.90000000e+01, 9.20000000e+01, 1.67196711e-01, 2.00000000e+00],\n",
       "       [2.24000000e+02, 2.66000000e+02, 1.69396115e-01, 4.00000000e+00],\n",
       "       [2.11000000e+02, 2.33000000e+02, 1.71236095e-01, 2.00000000e+00],\n",
       "       [6.20000000e+01, 2.52000000e+02, 1.74748646e-01, 3.00000000e+00],\n",
       "       [2.00000000e+00, 2.72000000e+02, 1.77131132e-01, 4.00000000e+00],\n",
       "       [6.00000000e+00, 8.10000000e+01, 1.77872127e-01, 2.00000000e+00],\n",
       "       [4.80000000e+01, 2.59000000e+02, 1.80383561e-01, 3.00000000e+00],\n",
       "       [2.17000000e+02, 2.35000000e+02, 1.84458547e-01, 2.00000000e+00],\n",
       "       [1.55000000e+02, 1.79000000e+02, 1.84505162e-01, 2.00000000e+00],\n",
       "       [2.56000000e+02, 2.75000000e+02, 1.85311749e-01, 4.00000000e+00],\n",
       "       [7.90000000e+01, 2.78000000e+02, 1.86854372e-01, 3.00000000e+00],\n",
       "       [3.30000000e+01, 7.60000000e+01, 1.91972581e-01, 2.00000000e+00],\n",
       "       [2.49000000e+02, 2.60000000e+02, 1.92325339e-01, 3.00000000e+00],\n",
       "       [1.77000000e+02, 1.99000000e+02, 1.92642311e-01, 2.00000000e+00],\n",
       "       [2.00000000e+02, 2.74000000e+02, 1.97677425e-01, 5.00000000e+00],\n",
       "       [1.46000000e+02, 1.48000000e+02, 1.99786981e-01, 2.00000000e+00],\n",
       "       [1.97000000e+02, 2.80000000e+02, 2.02727509e-01, 3.00000000e+00],\n",
       "       [1.00000000e+01, 2.83000000e+02, 2.06870197e-01, 4.00000000e+00],\n",
       "       [1.63000000e+02, 2.87000000e+02, 2.08415731e-01, 6.00000000e+00],\n",
       "       [1.20000000e+01, 2.63000000e+02, 2.12433457e-01, 3.00000000e+00],\n",
       "       [2.80000000e+01, 2.84000000e+02, 2.14769503e-01, 3.00000000e+00],\n",
       "       [5.10000000e+01, 6.90000000e+01, 2.19937199e-01, 2.00000000e+00],\n",
       "       [5.20000000e+01, 6.60000000e+01, 2.26562941e-01, 2.00000000e+00],\n",
       "       [1.93000000e+02, 1.94000000e+02, 2.31152812e-01, 2.00000000e+00],\n",
       "       [2.76000000e+02, 2.95000000e+02, 2.32396166e-01, 5.00000000e+00],\n",
       "       [1.75000000e+02, 2.39000000e+02, 2.41156850e-01, 2.00000000e+00],\n",
       "       [4.70000000e+01, 8.50000000e+01, 2.43197645e-01, 2.00000000e+00],\n",
       "       [1.10000000e+02, 1.25000000e+02, 2.47987012e-01, 2.00000000e+00],\n",
       "       [7.00000000e+00, 7.50000000e+01, 2.54416695e-01, 2.00000000e+00],\n",
       "       [9.30000000e+01, 2.67000000e+02, 2.56604790e-01, 3.00000000e+00],\n",
       "       [1.00000000e+02, 1.16000000e+02, 2.58650113e-01, 2.00000000e+00],\n",
       "       [2.30000000e+01, 2.97000000e+02, 2.60087255e-01, 6.00000000e+00],\n",
       "       [1.86000000e+02, 2.04000000e+02, 2.61997841e-01, 2.00000000e+00],\n",
       "       [1.60000000e+02, 2.14000000e+02, 2.66075015e-01, 2.00000000e+00],\n",
       "       [1.76000000e+02, 2.61000000e+02, 2.69188335e-01, 3.00000000e+00],\n",
       "       [1.68000000e+02, 3.07000000e+02, 2.74900616e-01, 4.00000000e+00],\n",
       "       [1.10000000e+01, 2.93000000e+02, 2.78464930e-01, 4.00000000e+00],\n",
       "       [1.07000000e+02, 1.21000000e+02, 2.78560667e-01, 2.00000000e+00],\n",
       "       [1.85000000e+02, 2.36000000e+02, 2.91347523e-01, 2.00000000e+00],\n",
       "       [1.50000000e+01, 9.00000000e+01, 2.92101844e-01, 2.00000000e+00],\n",
       "       [2.92000000e+02, 3.04000000e+02, 2.92833916e-01, 9.00000000e+00],\n",
       "       [4.10000000e+01, 2.77000000e+02, 2.93706202e-01, 5.00000000e+00],\n",
       "       [9.90000000e+01, 2.90000000e+02, 2.95168894e-01, 5.00000000e+00],\n",
       "       [1.50000000e+02, 1.71000000e+02, 2.99678375e-01, 2.00000000e+00],\n",
       "       [1.69000000e+02, 2.38000000e+02, 3.02369796e-01, 2.00000000e+00],\n",
       "       [2.22000000e+02, 2.91000000e+02, 3.07807770e-01, 7.00000000e+00],\n",
       "       [1.72000000e+02, 3.08000000e+02, 3.08389490e-01, 5.00000000e+00],\n",
       "       [3.14000000e+02, 3.15000000e+02, 3.09945910e-01, 1.00000000e+01],\n",
       "       [2.05000000e+02, 2.96000000e+02, 3.12041731e-01, 3.00000000e+00],\n",
       "       [1.33000000e+02, 1.44000000e+02, 3.20501516e-01, 2.00000000e+00],\n",
       "       [1.31000000e+02, 2.57000000e+02, 3.21718243e-01, 3.00000000e+00],\n",
       "       [2.13000000e+02, 2.28000000e+02, 3.21894580e-01, 2.00000000e+00],\n",
       "       [1.35000000e+02, 1.36000000e+02, 3.22016891e-01, 2.00000000e+00],\n",
       "       [1.64000000e+02, 2.20000000e+02, 3.22284475e-01, 2.00000000e+00],\n",
       "       [2.99000000e+02, 3.13000000e+02, 3.23948358e-01, 1.10000000e+01],\n",
       "       [4.50000000e+01, 3.20000000e+02, 3.26272548e-01, 1.10000000e+01],\n",
       "       [1.67000000e+02, 2.34000000e+02, 3.28243343e-01, 2.00000000e+00],\n",
       "       [2.85000000e+02, 3.29000000e+02, 3.30860603e-01, 5.00000000e+00],\n",
       "       [3.02000000e+02, 3.09000000e+02, 3.31084922e-01, 7.00000000e+00],\n",
       "       [6.30000000e+01, 2.53000000e+02, 3.31298726e-01, 3.00000000e+00],\n",
       "       [8.90000000e+01, 2.94000000e+02, 3.41584999e-01, 3.00000000e+00],\n",
       "       [7.40000000e+01, 8.20000000e+01, 3.42806525e-01, 2.00000000e+00],\n",
       "       [3.03000000e+02, 3.22000000e+02, 3.43184172e-01, 4.00000000e+00],\n",
       "       [1.84000000e+02, 2.25000000e+02, 3.50539167e-01, 2.00000000e+00],\n",
       "       [1.90000000e+02, 2.82000000e+02, 3.55861760e-01, 5.00000000e+00],\n",
       "       [3.27000000e+02, 3.31000000e+02, 3.56645218e-01, 1.80000000e+01],\n",
       "       [8.40000000e+01, 3.38000000e+02, 3.56891222e-01, 1.90000000e+01],\n",
       "       [2.73000000e+02, 3.12000000e+02, 3.57613149e-01, 4.00000000e+00],\n",
       "       [4.30000000e+01, 2.79000000e+02, 3.61964131e-01, 4.00000000e+00],\n",
       "       [3.32000000e+02, 3.39000000e+02, 3.64753315e-01, 2.20000000e+01],\n",
       "       [2.81000000e+02, 2.98000000e+02, 3.65668266e-01, 4.00000000e+00],\n",
       "       [5.00000000e+00, 3.42000000e+02, 3.67430165e-01, 2.30000000e+01],\n",
       "       [7.70000000e+01, 3.01000000e+02, 3.69430998e-01, 3.00000000e+00],\n",
       "       [3.28000000e+02, 3.34000000e+02, 3.75901881e-01, 1.30000000e+01],\n",
       "       [4.60000000e+01, 3.33000000e+02, 3.81003666e-01, 4.00000000e+00],\n",
       "       [2.26000000e+02, 3.21000000e+02, 3.82656892e-01, 4.00000000e+00],\n",
       "       [1.23000000e+02, 1.26000000e+02, 3.85862080e-01, 2.00000000e+00],\n",
       "       [7.10000000e+01, 8.80000000e+01, 3.86865760e-01, 2.00000000e+00],\n",
       "       [2.54000000e+02, 3.46000000e+02, 3.96161664e-01, 1.50000000e+01],\n",
       "       [1.83000000e+02, 2.42000000e+02, 3.97349957e-01, 2.00000000e+00],\n",
       "       [2.30000000e+02, 3.18000000e+02, 3.97475411e-01, 8.00000000e+00],\n",
       "       [3.05000000e+02, 3.19000000e+02, 4.00984703e-01, 7.00000000e+00],\n",
       "       [2.07000000e+02, 3.48000000e+02, 4.05919658e-01, 5.00000000e+00],\n",
       "       [3.37000000e+02, 3.55000000e+02, 4.07460555e-01, 1.00000000e+01],\n",
       "       [8.00000000e+00, 9.00000000e+00, 4.09101149e-01, 2.00000000e+00],\n",
       "       [2.27000000e+02, 2.70000000e+02, 4.13910129e-01, 4.00000000e+00],\n",
       "       [1.32000000e+02, 3.10000000e+02, 4.31245943e-01, 3.00000000e+00],\n",
       "       [1.65000000e+02, 2.37000000e+02, 4.31424437e-01, 2.00000000e+00],\n",
       "       [3.00000000e+01, 7.00000000e+01, 4.31919415e-01, 2.00000000e+00],\n",
       "       [3.30000000e+02, 3.54000000e+02, 4.32573458e-01, 1.20000000e+01],\n",
       "       [2.44000000e+02, 3.62000000e+02, 4.36688086e-01, 1.30000000e+01],\n",
       "       [1.70000000e+02, 3.56000000e+02, 4.38389387e-01, 1.10000000e+01],\n",
       "       [3.36000000e+02, 3.58000000e+02, 4.41870495e-01, 6.00000000e+00],\n",
       "       [1.45000000e+02, 3.59000000e+02, 4.44456836e-01, 4.00000000e+00],\n",
       "       [1.42000000e+02, 3.23000000e+02, 4.48400167e-01, 4.00000000e+00],\n",
       "       [5.70000000e+01, 2.68000000e+02, 4.61350028e-01, 3.00000000e+00],\n",
       "       [1.54000000e+02, 3.60000000e+02, 4.68449136e-01, 3.00000000e+00],\n",
       "       [5.00000000e+01, 6.00000000e+01, 4.68941807e-01, 2.00000000e+00],\n",
       "       [2.15000000e+02, 2.16000000e+02, 4.71124464e-01, 2.00000000e+00],\n",
       "       [1.05000000e+02, 1.17000000e+02, 4.71623187e-01, 2.00000000e+00],\n",
       "       [1.40000000e+01, 3.44000000e+02, 4.72879856e-01, 2.40000000e+01],\n",
       "       [1.11000000e+02, 1.43000000e+02, 4.73495275e-01, 2.00000000e+00],\n",
       "       [1.58000000e+02, 3.63000000e+02, 4.81281935e-01, 1.40000000e+01],\n",
       "       [1.87000000e+02, 2.62000000e+02, 4.81876294e-01, 3.00000000e+00],\n",
       "       [1.20000000e+02, 3.67000000e+02, 4.86914475e-01, 5.00000000e+00],\n",
       "       [4.00000000e+00, 3.45000000e+02, 4.90310867e-01, 4.00000000e+00],\n",
       "       [4.20000000e+01, 2.64000000e+02, 4.90340662e-01, 3.00000000e+00],\n",
       "       [1.28000000e+02, 3.35000000e+02, 4.91236799e-01, 5.00000000e+00],\n",
       "       [3.66000000e+02, 3.80000000e+02, 4.92639499e-01, 9.00000000e+00],\n",
       "       [3.53000000e+02, 3.65000000e+02, 5.02125375e-01, 1.40000000e+01],\n",
       "       [3.51000000e+02, 3.73000000e+02, 5.04911589e-01, 3.90000000e+01],\n",
       "       [1.92000000e+02, 1.98000000e+02, 5.09167551e-01, 2.00000000e+00],\n",
       "       [3.10000000e+01, 3.40000000e+01, 5.12574102e-01, 2.00000000e+00],\n",
       "       [1.18000000e+02, 1.24000000e+02, 5.15028275e-01, 2.00000000e+00],\n",
       "       [1.80000000e+02, 1.91000000e+02, 5.21194950e-01, 2.00000000e+00],\n",
       "       [3.41000000e+02, 3.83000000e+02, 5.21220257e-01, 4.30000000e+01],\n",
       "       [1.56000000e+02, 3.64000000e+02, 5.21434163e-01, 1.20000000e+01],\n",
       "       [3.90000000e+01, 3.85000000e+02, 5.24380771e-01, 3.00000000e+00],\n",
       "       [3.70000000e+02, 3.88000000e+02, 5.28026486e-01, 4.50000000e+01],\n",
       "       [3.25000000e+02, 3.81000000e+02, 5.31674315e-01, 1.10000000e+01],\n",
       "       [2.29000000e+02, 3.43000000e+02, 5.33821117e-01, 5.00000000e+00],\n",
       "       [2.71000000e+02, 3.78000000e+02, 5.40238343e-01, 6.00000000e+00],\n",
       "       [1.96000000e+02, 2.46000000e+02, 5.42886726e-01, 2.00000000e+00],\n",
       "       [3.82000000e+02, 3.89000000e+02, 5.42980024e-01, 2.60000000e+01],\n",
       "       [1.78000000e+02, 3.96000000e+02, 5.46434613e-01, 2.70000000e+01],\n",
       "       [1.06000000e+02, 1.47000000e+02, 5.49566919e-01, 2.00000000e+00],\n",
       "       [1.51000000e+02, 2.86000000e+02, 5.55553606e-01, 3.00000000e+00],\n",
       "       [2.69000000e+02, 3.75000000e+02, 5.57179939e-01, 1.70000000e+01],\n",
       "       [1.22000000e+02, 3.49000000e+02, 5.59332937e-01, 3.00000000e+00],\n",
       "       [1.30000000e+02, 3.72000000e+02, 5.62539224e-01, 3.00000000e+00],\n",
       "       [2.89000000e+02, 3.93000000e+02, 5.66177767e-01, 8.00000000e+00],\n",
       "       [3.76000000e+02, 3.97000000e+02, 5.70123459e-01, 3.00000000e+01],\n",
       "       [3.40000000e+02, 3.68000000e+02, 5.73659402e-01, 7.00000000e+00],\n",
       "       [5.60000000e+01, 3.90000000e+02, 5.80123415e-01, 4.00000000e+00],\n",
       "       [4.00000000e+01, 3.91000000e+02, 5.81143934e-01, 4.60000000e+01],\n",
       "       [1.12000000e+02, 3.86000000e+02, 5.90497684e-01, 3.00000000e+00],\n",
       "       [3.11000000e+02, 3.17000000e+02, 5.91970957e-01, 4.00000000e+00],\n",
       "       [3.80000000e+01, 4.07000000e+02, 5.96768332e-01, 4.70000000e+01],\n",
       "       [3.50000000e+02, 4.06000000e+02, 5.97267634e-01, 6.00000000e+00],\n",
       "       [4.10000000e+02, 4.11000000e+02, 5.98555695e-01, 5.30000000e+01],\n",
       "       [3.94000000e+02, 4.12000000e+02, 5.99460681e-01, 5.90000000e+01],\n",
       "       [6.10000000e+01, 4.13000000e+02, 5.99811938e-01, 6.00000000e+01],\n",
       "       [1.62000000e+02, 4.04000000e+02, 6.01905027e-01, 3.10000000e+01],\n",
       "       [4.05000000e+02, 4.14000000e+02, 6.03119394e-01, 6.70000000e+01],\n",
       "       [3.99000000e+02, 4.09000000e+02, 6.05308719e-01, 7.00000000e+00],\n",
       "       [3.52000000e+02, 4.00000000e+02, 6.18757897e-01, 1.90000000e+01],\n",
       "       [1.08000000e+02, 2.55000000e+02, 6.21219103e-01, 3.00000000e+00],\n",
       "       [4.15000000e+02, 4.18000000e+02, 6.30002859e-01, 5.00000000e+01],\n",
       "       [3.69000000e+02, 3.87000000e+02, 6.30284005e-01, 5.00000000e+00],\n",
       "       [3.16000000e+02, 3.24000000e+02, 6.31543719e-01, 4.00000000e+00],\n",
       "       [4.20000000e+02, 4.21000000e+02, 6.31843892e-01, 5.50000000e+01],\n",
       "       [9.10000000e+01, 4.16000000e+02, 6.34143215e-01, 6.80000000e+01],\n",
       "       [3.20000000e+01, 4.24000000e+02, 6.47709296e-01, 6.90000000e+01],\n",
       "       [2.60000000e+01, 3.79000000e+02, 6.50465821e-01, 4.00000000e+00],\n",
       "       [6.70000000e+01, 4.25000000e+02, 6.50474653e-01, 7.00000000e+01],\n",
       "       [3.00000000e+02, 4.08000000e+02, 6.55835456e-01, 5.00000000e+00],\n",
       "       [7.80000000e+01, 8.70000000e+01, 6.74446807e-01, 2.00000000e+00],\n",
       "       [6.80000000e+01, 3.47000000e+02, 6.81589499e-01, 5.00000000e+00],\n",
       "       [3.26000000e+02, 4.23000000e+02, 6.84479127e-01, 5.70000000e+01],\n",
       "       [4.17000000e+02, 4.31000000e+02, 6.92769378e-01, 6.40000000e+01],\n",
       "       [4.26000000e+02, 4.27000000e+02, 7.14097986e-01, 7.40000000e+01],\n",
       "       [1.95000000e+02, 3.84000000e+02, 7.14348664e-01, 3.00000000e+00],\n",
       "       [3.92000000e+02, 4.19000000e+02, 7.15183436e-01, 1.40000000e+01],\n",
       "       [3.06000000e+02, 4.32000000e+02, 7.34484335e-01, 6.60000000e+01],\n",
       "       [1.88000000e+02, 4.36000000e+02, 7.44573769e-01, 6.70000000e+01],\n",
       "       [2.50000000e+01, 5.40000000e+01, 7.47904991e-01, 2.00000000e+00],\n",
       "       [2.88000000e+02, 3.77000000e+02, 7.54727191e-01, 7.00000000e+00],\n",
       "       [4.28000000e+02, 4.39000000e+02, 7.57627884e-01, 1.20000000e+01],\n",
       "       [4.01000000e+02, 4.40000000e+02, 7.57842843e-01, 1.50000000e+01],\n",
       "       [1.82000000e+02, 4.37000000e+02, 7.64707105e-01, 6.80000000e+01],\n",
       "       [4.30000000e+02, 4.33000000e+02, 8.05220242e-01, 7.90000000e+01],\n",
       "       [2.70000000e+01, 2.90000000e+01, 8.07405737e-01, 2.00000000e+00],\n",
       "       [1.04000000e+02, 1.14000000e+02, 8.19140605e-01, 2.00000000e+00],\n",
       "       [1.01000000e+02, 4.35000000e+02, 8.25360067e-01, 1.50000000e+01],\n",
       "       [1.02000000e+02, 4.46000000e+02, 8.32852415e-01, 1.60000000e+01],\n",
       "       [4.41000000e+02, 4.47000000e+02, 8.37006390e-01, 3.10000000e+01],\n",
       "       [2.21000000e+02, 2.47000000e+02, 8.39568840e-01, 2.00000000e+00],\n",
       "       [9.50000000e+01, 3.61000000e+02, 8.40345269e-01, 3.00000000e+00],\n",
       "       [3.71000000e+02, 4.42000000e+02, 8.49126339e-01, 7.00000000e+01],\n",
       "       [4.43000000e+02, 4.50000000e+02, 8.51776279e-01, 8.20000000e+01],\n",
       "       [1.13000000e+02, 4.48000000e+02, 8.68479347e-01, 3.20000000e+01],\n",
       "       [4.49000000e+02, 4.51000000e+02, 8.69355961e-01, 7.20000000e+01],\n",
       "       [2.10000000e+02, 4.03000000e+02, 8.86615817e-01, 9.00000000e+00],\n",
       "       [4.02000000e+02, 4.53000000e+02, 9.02455662e-01, 3.50000000e+01],\n",
       "       [2.03000000e+02, 4.54000000e+02, 9.07271681e-01, 7.30000000e+01],\n",
       "       [3.50000000e+01, 4.52000000e+02, 9.08501638e-01, 8.30000000e+01],\n",
       "       [3.95000000e+02, 4.57000000e+02, 9.21852342e-01, 7.50000000e+01],\n",
       "       [3.57000000e+02, 4.58000000e+02, 9.25835459e-01, 8.50000000e+01],\n",
       "       [1.27000000e+02, 3.74000000e+02, 9.44604658e-01, 3.00000000e+00],\n",
       "       [4.55000000e+02, 4.59000000e+02, 9.50179772e-01, 8.40000000e+01],\n",
       "       [4.38000000e+02, 4.60000000e+02, 9.66335579e-01, 8.70000000e+01],\n",
       "       [1.00000000e+00, 1.60000000e+01, 9.76467700e-01, 2.00000000e+00],\n",
       "       [5.50000000e+01, 4.29000000e+02, 9.81100820e-01, 3.00000000e+00],\n",
       "       [4.22000000e+02, 4.62000000e+02, 9.82435593e-01, 8.80000000e+01],\n",
       "       [4.63000000e+02, 4.64000000e+02, 1.03110723e+00, 8.90000000e+01],\n",
       "       [2.00000000e+01, 4.67000000e+02, 1.03260604e+00, 9.00000000e+01],\n",
       "       [1.03000000e+02, 4.56000000e+02, 1.04859121e+00, 3.60000000e+01],\n",
       "       [1.61000000e+02, 4.66000000e+02, 1.06176861e+00, 8.90000000e+01],\n",
       "       [2.12000000e+02, 4.70000000e+02, 1.07928565e+00, 9.00000000e+01],\n",
       "       [7.20000000e+01, 4.68000000e+02, 1.08293601e+00, 9.10000000e+01],\n",
       "       [4.61000000e+02, 4.69000000e+02, 1.09424158e+00, 3.90000000e+01],\n",
       "       [1.37000000e+02, 4.73000000e+02, 1.10445041e+00, 4.00000000e+01],\n",
       "       [3.98000000e+02, 4.74000000e+02, 1.11211790e+00, 4.20000000e+01],\n",
       "       [4.45000000e+02, 4.75000000e+02, 1.12523216e+00, 4.40000000e+01],\n",
       "       [5.30000000e+01, 4.72000000e+02, 1.12594754e+00, 9.20000000e+01],\n",
       "       [2.01000000e+02, 4.71000000e+02, 1.15638698e+00, 9.10000000e+01],\n",
       "       [2.18000000e+02, 4.78000000e+02, 1.17979803e+00, 9.20000000e+01],\n",
       "       [5.90000000e+01, 4.77000000e+02, 1.25751071e+00, 9.30000000e+01],\n",
       "       [4.65000000e+02, 4.80000000e+02, 1.27330390e+00, 9.60000000e+01],\n",
       "       [1.52000000e+02, 4.79000000e+02, 1.29036936e+00, 9.30000000e+01],\n",
       "       [4.44000000e+02, 4.81000000e+02, 1.31824132e+00, 9.80000000e+01],\n",
       "       [1.15000000e+02, 1.29000000e+02, 1.32796225e+00, 2.00000000e+00],\n",
       "       [1.89000000e+02, 2.08000000e+02, 1.33256416e+00, 2.00000000e+00],\n",
       "       [1.73000000e+02, 4.82000000e+02, 1.35934713e+00, 9.40000000e+01],\n",
       "       [4.76000000e+02, 4.84000000e+02, 1.44005420e+00, 4.60000000e+01],\n",
       "       [4.34000000e+02, 4.86000000e+02, 1.48596494e+00, 9.70000000e+01],\n",
       "       [1.90000000e+01, 4.83000000e+02, 1.76503662e+00, 9.90000000e+01],\n",
       "       [4.85000000e+02, 4.88000000e+02, 1.78310511e+00, 9.90000000e+01],\n",
       "       [1.66000000e+02, 4.90000000e+02, 1.93647443e+00, 1.00000000e+02],\n",
       "       [1.19000000e+02, 4.91000000e+02, 2.05304485e+00, 1.01000000e+02],\n",
       "       [3.60000000e+01, 4.89000000e+02, 2.20104550e+00, 1.00000000e+02],\n",
       "       [4.87000000e+02, 4.92000000e+02, 2.28960972e+00, 1.47000000e+02],\n",
       "       [1.34000000e+02, 4.94000000e+02, 2.38489280e+00, 1.48000000e+02],\n",
       "       [1.09000000e+02, 4.95000000e+02, 3.07904222e+00, 1.49000000e+02],\n",
       "       [1.39000000e+02, 4.96000000e+02, 3.17670905e+00, 1.50000000e+02],\n",
       "       [4.93000000e+02, 4.97000000e+02, 1.01469444e+01, 2.50000000e+02]])"
      ]
     },
     "execution_count": 28,
     "metadata": {},
     "output_type": "execute_result"
    }
   ],
   "source": [
    "linkage(dataFrame, metric='euclidean')\n"
   ]
  },
  {
   "cell_type": "markdown",
   "metadata": {},
   "source": [
    "Use ward as linkage metric and distance as Eucledian"
   ]
  },
  {
   "cell_type": "code",
   "execution_count": null,
   "metadata": {},
   "outputs": [],
   "source": []
  },
  {
   "cell_type": "code",
   "execution_count": null,
   "metadata": {},
   "outputs": [],
   "source": []
  },
  {
   "cell_type": "markdown",
   "metadata": {},
   "source": [
    "### 12. Plot the dendrogram for the consolidated dataframe"
   ]
  },
  {
   "cell_type": "code",
   "execution_count": 29,
   "metadata": {},
   "outputs": [
    {
     "data": {
      "image/png": "[encoded data removed]",
      "text/plain": [
       "<Figure size 1440x720 with 1 Axes>"
      ]
     },
     "metadata": {
      "needs_background": "light"
     },
     "output_type": "display_data"
    }
   ],
   "source": [
    "fig = plt.figure(figsize=(20, 10))\n",
    "plt.title(\"Dendogram\")\n",
    "dn = dendrogram(linkage(dataFrame, metric='euclidean', method='ward'))\n",
    "plt.show()"
   ]
  },
  {
   "cell_type": "code",
   "execution_count": null,
   "metadata": {},
   "outputs": [],
   "source": []
  },
  {
   "cell_type": "code",
   "execution_count": null,
   "metadata": {},
   "outputs": [],
   "source": []
  },
  {
   "cell_type": "markdown",
   "metadata": {},
   "source": [
    "### 13. Recreate the dendrogram for last 12 merged clusters "
   ]
  },
  {
   "cell_type": "code",
   "execution_count": 30,
   "metadata": {},
   "outputs": [
    {
     "data": {
      "image/png": "[encoded data removed]",
      "text/plain": [
       "<Figure size 1440x720 with 1 Axes>"
      ]
     },
     "metadata": {
      "needs_background": "light"
     },
     "output_type": "display_data"
    }
   ],
   "source": [
    "fig = plt.figure(figsize=(20, 10))\n",
    "plt.title(\"Dendogram\")\n",
    "dn = dendrogram(linkage(dataFrame, metric='euclidean', method='ward'), truncate_mode='lastp', p=12)\n",
    "plt.show()"
   ]
  },
  {
   "cell_type": "markdown",
   "metadata": {},
   "source": [
    "Hint: Use truncate_mode='lastp' attribute in dendrogram function to arrive at dendrogram "
   ]
  },
  {
   "cell_type": "code",
   "execution_count": null,
   "metadata": {},
   "outputs": [],
   "source": []
  },
  {
   "cell_type": "code",
   "execution_count": null,
   "metadata": {},
   "outputs": [],
   "source": []
  },
  {
   "cell_type": "markdown",
   "metadata": {},
   "source": [
    "### 14. Using this distance measure and AgglomerativeClustering() function to cluster the data into 3 different groups"
   ]
  },
  {
   "cell_type": "code",
   "execution_count": 31,
   "metadata": {},
   "outputs": [],
   "source": [
    "ac = AgglomerativeClustering(n_clusters=3, linkage='ward')\n",
    "dataFrame['Cluster_3'] = ac.fit_predict(dataFrame)\n"
   ]
  },
  {
   "cell_type": "code",
   "execution_count": 32,
   "metadata": {},
   "outputs": [
    {
     "data": {
      "text/plain": [
       "<matplotlib.axes._subplots.AxesSubplot at 0xd4f1c88>"
      ]
     },
     "execution_count": 32,
     "metadata": {},
     "output_type": "execute_result"
    },
    {
     "data": {
      "image/png": "[encoded data removed]",
      "text/plain": [
       "<Figure size 842.4x595.44 with 1 Axes>"
      ]
     },
     "metadata": {},
     "output_type": "display_data"
    }
   ],
   "source": [
    "sns.set(rc={'figure.figsize':(11.7,8.27)})\n",
    "sns.scatterplot(x=dataFrame.A, y=dataFrame.B, hue=dataFrame['Cluster_3'], palette='gist_rainbow')"
   ]
  },
  {
   "cell_type": "markdown",
   "metadata": {},
   "source": [
    "### 15. Use matplotlib to visually observe the clusters in 2D space "
   ]
  },
  {
   "cell_type": "code",
   "execution_count": 33,
   "metadata": {},
   "outputs": [
    {
     "data": {
      "text/plain": [
       "<matplotlib.axes._subplots.AxesSubplot at 0xd004f98>"
      ]
     },
     "execution_count": 33,
     "metadata": {},
     "output_type": "execute_result"
    },
    {
     "data": {
      "image/png": "[encoded data removed]",
      "text/plain": [
       "<Figure size 842.4x595.44 with 1 Axes>"
      ]
     },
     "metadata": {},
     "output_type": "display_data"
    }
   ],
   "source": [
    "sns.set(rc={'figure.figsize':(11.7,8.27)})\n",
    "sns.scatterplot(x=dataFrame.A, y=dataFrame.B, hue=dataFrame['Cluster_3'], palette='gist_rainbow')"
   ]
  }
 ],
 "metadata": {
  "kernelspec": {
   "display_name": "Python 3",
   "language": "python",
   "name": "python3"
  },
  "language_info": {
   "codemirror_mode": {
    "name": "ipython",
    "version": 3
   },
   "file_extension": ".py",
   "mimetype": "text/x-python",
   "name": "python",
   "nbconvert_exporter": "python",
   "pygments_lexer": "ipython3",
   "version": "3.7.3"
  }
 },
 "nbformat": 4,
 "nbformat_minor": 2
}
